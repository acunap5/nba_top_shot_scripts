{
 "cells": [
  {
   "cell_type": "code",
   "execution_count": 2,
   "metadata": {},
   "outputs": [],
   "source": [
    "from bs4 import BeautifulSoup\n",
    "import requests\n",
    "from selenium import webdriver\n",
    "from re import sub\n",
    "from decimal import Decimal"
   ]
  },
  {
   "cell_type": "code",
   "execution_count": 3,
   "metadata": {},
   "outputs": [],
   "source": [
    "def get_data():\n",
    "    summ = 0\n",
    "    nba = 'https://www.nbatopshot.com'\n",
    "    url = 'https://www.nbatopshot.com/challenges/fd98f877-3b53-4b8e-a0bd-405083472d7e'\n",
    "    path = #put path to your chrome \n",
    "    browser = webdriver.Chrome(path)\n",
    "    browser.get(url)\n",
    "    html = browser.page_source\n",
    "    soup = BeautifulSoup(html, 'html5lib')\n",
    "    for d in soup.findAll('div', attrs={'class':'Slot__StyledRoot-zod67k-0 hmClgG'}):\n",
    "        link = d.find('a', {'class': 'Slot__StyledAnchor-zod67k-1 iTROFQ'})\n",
    "        link = link['href']\n",
    "        inner = browser.get(nba + link)\n",
    "        html_inner = browser.page_source\n",
    "        soup_inner = BeautifulSoup(html_inner, 'html5lib')\n",
    "        price = soup_inner.find('div', attrs={'class':'Price__PriceWrapper-sc-14mok7p-2 JKBnr'})\n",
    "        price = str(price)\n",
    "        start = price.find('$')\n",
    "        end = price.find('</')\n",
    "        price = price[start:end]\n",
    "        value = Decimal(sub(r'[^\\d.]', '', price))\n",
    "        summ += value\n",
    "\n",
    "    return summ"
   ]
  },
  {
   "cell_type": "code",
   "execution_count": 4,
   "metadata": {},
   "outputs": [
    {
     "name": "stdout",
     "output_type": "stream",
     "text": [
      "135.00\n",
      "31.00\n",
      "348.00\n",
      "90.00\n",
      "79.00\n",
      "34.00\n",
      "110.00\n",
      "49.00\n",
      "74.00\n",
      "Total: $ 950.0\n"
     ]
    }
   ],
   "source": [
    "sol = get_data()\n",
    "print(\"Total: $\", float(sol))"
   ]
  },
  {
   "cell_type": "code",
   "execution_count": null,
   "metadata": {},
   "outputs": [],
   "source": [
    "       "
   ]
  },
  {
   "cell_type": "code",
   "execution_count": null,
   "metadata": {},
   "outputs": [],
   "source": []
  },
  {
   "cell_type": "code",
   "execution_count": null,
   "metadata": {},
   "outputs": [],
   "source": []
  },
  {
   "cell_type": "code",
   "execution_count": null,
   "metadata": {},
   "outputs": [],
   "source": []
  },
  {
   "cell_type": "code",
   "execution_count": null,
   "metadata": {},
   "outputs": [],
   "source": []
  }
 ],
 "metadata": {
  "kernelspec": {
   "display_name": "Python 3",
   "language": "python",
   "name": "python3"
  },
  "language_info": {
   "codemirror_mode": {
    "name": "ipython",
    "version": 3
   },
   "file_extension": ".py",
   "mimetype": "text/x-python",
   "name": "python",
   "nbconvert_exporter": "python",
   "pygments_lexer": "ipython3",
   "version": "3.8.5"
  }
 },
 "nbformat": 4,
 "nbformat_minor": 4
}
