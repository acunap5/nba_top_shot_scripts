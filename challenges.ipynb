{
 "cells": [
  {
   "cell_type": "markdown",
   "metadata": {},
   "source": [
    "# NBA Challenge Calculator \n",
    "\n",
    "## Please read the .readme before attempting to run beacuase you will need to install the libraries below as well include the path to your chromedriver"
   ]
  },
  {
   "cell_type": "code",
   "execution_count": 14,
   "metadata": {},
   "outputs": [],
   "source": [
    "from bs4 import BeautifulSoup\n",
    "import requests\n",
    "from selenium import webdriver\n",
    "from re import sub\n",
    "from decimal import Decimal"
   ]
  },
  {
   "cell_type": "code",
   "execution_count": 17,
   "metadata": {},
   "outputs": [],
   "source": [
    "def get_challenge_total():\n",
    "    tot = 0\n",
    "    nba = 'https://www.nbatopshot.com'\n",
    "    url = str(input(\"Enter Complete Challenge URL: \"))\n",
    "    #change this path to the path of your chromedriver \n",
    "    path = '/Users/pabloa/Desktop/nba_top_shot_scripts/chromedriver'\n",
    "    browser = webdriver.Chrome(path)\n",
    "    browser.get(url)\n",
    "    html = browser.page_source\n",
    "    soup = BeautifulSoup(html, 'html5lib')\n",
    "    #loops thru each indivual challenge item\n",
    "    for d in soup.findAll('div', attrs={'class':'Slot__StyledRoot-zod67k-0 hmClgG'}):\n",
    "        #finds link to challenge item and loads page to parse\n",
    "        link = d.find('a', {'class': 'Slot__StyledAnchor-zod67k-1 iTROFQ'})\n",
    "        link = link['href']\n",
    "        inner = browser.get(nba + link)\n",
    "        html_inner = browser.page_source\n",
    "        soup_inner = BeautifulSoup(html_inner, 'html5lib')\n",
    "        #extracts price from that item's page and uses simple indices to find the string of the price\n",
    "        #will also use RegEx to find price just was in the zone\n",
    "        price = soup_inner.find('div', attrs={'class':'Price__PriceWrapper-sc-14mok7p-2 JKBnr'})\n",
    "        price = str(price)\n",
    "        start = price.find('$')\n",
    "        end = price.find('</')\n",
    "        price = price[start:end]\n",
    "        value = Decimal(sub(r'[^\\d.]', '', price))\n",
    "        #if you want to print each items price remove # from line underneath\n",
    "        #might add the players name along with what card it is next to value if useful to users\n",
    "        #print(value)\n",
    "        tot += value\n",
    "\n",
    "    return tot"
   ]
  },
  {
   "cell_type": "markdown",
   "metadata": {},
   "source": [
    "## Just input your desired Challenge URL (will add exeption if not a Challenge URL soon) and press Enter to obtain total (may take a couple seconds)"
   ]
  },
  {
   "cell_type": "code",
   "execution_count": 18,
   "metadata": {},
   "outputs": [
    {
     "name": "stdout",
     "output_type": "stream",
     "text": [
      "Enter Complete Challenge URL: https://www.nbatopshot.com/challenges/88610946-1cc2-4794-984b-ec238cae3b6c\n",
      "999.00\n",
      "150.00\n",
      "230.00\n",
      "78.00\n",
      "50.00\n",
      "450.00\n",
      "325.00\n",
      "219.00\n",
      "43.00\n",
      "Total: $ 2544.0\n"
     ]
    }
   ],
   "source": [
    "#calls function and allows user to input their desired challenge prints out solution as a float \n",
    "sol = get_challenge_total()\n",
    "print(\"Total: $\", float(sol))"
   ]
  },
  {
   "cell_type": "markdown",
   "metadata": {},
   "source": [
    " "
   ]
  },
  {
   "cell_type": "code",
   "execution_count": null,
   "metadata": {},
   "outputs": [],
   "source": []
  },
  {
   "cell_type": "code",
   "execution_count": null,
   "metadata": {},
   "outputs": [],
   "source": []
  },
  {
   "cell_type": "code",
   "execution_count": null,
   "metadata": {},
   "outputs": [],
   "source": []
  },
  {
   "cell_type": "code",
   "execution_count": null,
   "metadata": {},
   "outputs": [],
   "source": []
  }
 ],
 "metadata": {
  "kernelspec": {
   "display_name": "Python 3",
   "language": "python",
   "name": "python3"
  },
  "language_info": {
   "codemirror_mode": {
    "name": "ipython",
    "version": 3
   },
   "file_extension": ".py",
   "mimetype": "text/x-python",
   "name": "python",
   "nbconvert_exporter": "python",
   "pygments_lexer": "ipython3",
   "version": "3.8.5"
  }
 },
 "nbformat": 4,
 "nbformat_minor": 4
}
